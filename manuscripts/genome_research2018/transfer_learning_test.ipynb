{
 "cells": [
  {
   "cell_type": "code",
   "execution_count": 1,
   "metadata": {},
   "outputs": [],
   "source": [
    "import tensorflow as tf"
   ]
  },
  {
   "cell_type": "code",
   "execution_count": 35,
   "metadata": {},
   "outputs": [
    {
     "name": "stdout",
     "output_type": "stream",
     "text": [
      "35.3\n"
     ]
    }
   ],
   "source": [
    "tf.reset_default_graph()\n",
    "v1 = tf.placeholder(tf.float32, name=\"v1\") \n",
    "v2 = tf.placeholder(tf.float32, name=\"v2\")\n",
    "v3 = tf.add(v1, v2)\n",
    "vx = tf.Variable(10.0, name=\"vx\")\n",
    "v4 = tf.add(v3, vx, name=\"v4_op\")\n",
    "v5=tf.pow(v4,2.5,name='v5')\n",
    "saver = tf.train.Saver()\n",
    "\n",
    "#tf.reset_default_graph()\n",
    "with tf.Session() as sess: \n",
    "    sess.run(tf.initialize_all_variables())\n",
    "    sess.run(vx.assign(tf.add(vx, vx)))\n",
    "    result = sess.run(v4, feed_dict={v1:12.0, v2:3.3})\n",
    "    print(result)\n",
    "    #tf.saved_model.simple_save(sess,'./model/model_ex1',inputs={'in1':v1,'in2':v2},outputs={'out1':v4})\n",
    "    saver.save(sess, \"./model/model_ex3\")"
   ]
  },
  {
   "cell_type": "code",
   "execution_count": 33,
   "metadata": {},
   "outputs": [
    {
     "name": "stderr",
     "output_type": "stream",
     "text": [
      "W0905 16:16:44.739183 11996 writer.py:199] Passing a `GraphDef` to the SummaryWriter is deprecated. Pass a `Graph` object instead, such as `sess.graph`.\n"
     ]
    },
    {
     "name": "stdout",
     "output_type": "stream",
     "text": [
      "v1\n",
      "v2\n",
      "Add\n",
      "vx/initial_value\n",
      "vx\n",
      "vx/Assign\n",
      "vx/read\n",
      "v4_op\n",
      "v5/y\n",
      "v5\n",
      "save/filename/input\n",
      "save/filename\n",
      "save/Const\n",
      "save/SaveV2/tensor_names\n",
      "save/SaveV2/shape_and_slices\n",
      "save/SaveV2\n",
      "save/control_dependency\n",
      "save/RestoreV2/tensor_names\n",
      "save/RestoreV2/shape_and_slices\n",
      "save/RestoreV2\n",
      "save/Assign\n",
      "save/restore_all\n",
      "init\n",
      "Add_1\n",
      "Assign\n",
      "\n",
      "3.53\n",
      "\n",
      "v1\n",
      "v2\n",
      "Add\n",
      "vx\n",
      "vx/read\n",
      "v4_op\n",
      "truediv/y\n",
      "truediv\n",
      "new_v5\n"
     ]
    }
   ],
   "source": [
    "tf.reset_default_graph()\n",
    "with tf.Session() as sess: \n",
    "    saver = tf.train.import_meta_graph(\"./model/model_ex3.meta\")\n",
    "    saver.restore(sess,tf.train.latest_checkpoint('./model/'))\n",
    "    #tf.saved_model.load(sess,tags=[tf.saved_model.tag_constants.SERVING],export_dir='./model/model_ex1')\n",
    "   \n",
    "  \n",
    "    for op in tf.get_default_graph().get_operations():\n",
    "        print(op.name) \n",
    "#     print(tf.get_collection(tf.GraphKeys.TRAINABLE_VARIABLES))\n",
    "    graph=tf.get_default_graph()\n",
    "    op=graph.get_tensor_by_name('v4_op:0')\n",
    "    new_op=tf.divide(op,10)\n",
    "    new_op=tf.identity(new_op,name='new_v5')\n",
    "    result = sess.run(new_op, \n",
    "                      feed_dict={\"v1:0\": 12.0, \"v2:0\": 3.3})  \n",
    "    \n",
    "    #print(sess.graph_def)\n",
    "    # the problem with Basenji is that the input feed_dict is not known with pre-trained model\n",
    "    #print(sess.graph_def)\n",
    "    new_graph_def=tf.graph_util.extract_sub_graph(sess.graph_def,['v1','v2','vx','v4_op','new_v5'])  # extract subgraph accessible to destination nodes defined here\n",
    "    \n",
    "    # this can still output modified graph, but only for visualization\n",
    "    writer = tf.summary.FileWriter(\"./model/model_ex3/model_graph\", graph=new_graph_def,filename_suffix='new')\n",
    "    #writer = tf.summary.FileWriter(\"./model/model_ex3/model_graph\", graph=sess.graph,filename_suffix='old')\n",
    "    print()\n",
    "    print(result)\n",
    "    print()\n",
    "    for _ in new_graph_def.node:\n",
    "        print(_.name)\n",
    "   \n",
    "    "
   ]
  },
  {
   "cell_type": "code",
   "execution_count": 25,
   "metadata": {},
   "outputs": [
    {
     "name": "stdout",
     "output_type": "stream",
     "text": [
      "\n",
      "['trainable_variables', 'variables']\n",
      "[<tf.Variable 'vx:0' shape=() dtype=float32_ref>]\n"
     ]
    },
    {
     "data": {
      "text/plain": [
       "<tf.Operation 'v5' type=Pow>"
      ]
     },
     "execution_count": 25,
     "metadata": {},
     "output_type": "execute_result"
    }
   ],
   "source": [
    "graph=tf.get_default_graph()\n",
    "print()\n",
    "print(graph.get_all_collection_keys())\n",
    "print(tf.get_collection(tf.GraphKeys.TRAINABLE_VARIABLES))\n",
    "#graph.get_operations()\n",
    "graph.get_tensor_by_name('vx:0')\n",
    "\n",
    "graph.get_operation_by_name('v5')"
   ]
  }
 ],
 "metadata": {
  "kernelspec": {
   "display_name": "Python 3",
   "language": "python",
   "name": "python3"
  },
  "language_info": {
   "codemirror_mode": {
    "name": "ipython",
    "version": 3
   },
   "file_extension": ".py",
   "mimetype": "text/x-python",
   "name": "python",
   "nbconvert_exporter": "python",
   "pygments_lexer": "ipython3",
   "version": "3.6.9"
  }
 },
 "nbformat": 4,
 "nbformat_minor": 4
}
